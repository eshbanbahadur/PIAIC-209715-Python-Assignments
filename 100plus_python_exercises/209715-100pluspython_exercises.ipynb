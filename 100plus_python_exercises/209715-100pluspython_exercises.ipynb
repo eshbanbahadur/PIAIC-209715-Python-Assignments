{
 "cells": [
  {
   "cell_type": "code",
   "execution_count": 4,
   "metadata": {},
   "outputs": [],
   "source": [
    "# 100 Python Questions for Practice\n",
    "# https://github.com/JahanzaibTayyab/Batch-67/blob/main/A1-101/assignments/assignment-06/100%2B Python challenging programming exercises for Python 3.md\n",
    "\n",
    "# I will add solutions in my Notebook time by time:\n",
    "#  https://colab.research.google.com/drive/1LJBMkB-bnJfiuTz_wsKf5Vmmelt9RHTx?usp=sharing"
   ]
  },
  {
   "cell_type": "code",
   "execution_count": 2,
   "metadata": {},
   "outputs": [
    {
     "name": "stdout",
     "output_type": "stream",
     "text": [
      "2002,2009,2016,2023,2037,2044,2051,2058,2072,2079,2086,2093,2107,2114,2121,2128,2142,2149,2156,2163,2177,2184,2191,2198,2212,2219,2226,2233,2247,2254,2261,2268,2282,2289,2296,2303,2317,2324,2331,2338,2352,2359,2366,2373,2387,2394,2401,2408,2422,2429,2436,2443,2457,2464,2471,2478,2492,2499,2506,2513,2527,2534,2541,2548,2562,2569,2576,2583,2597,2604,2611,2618,2632,2639,2646,2653,2667,2674,2681,2688,2702,2709,2716,2723,2737,2744,2751,2758,2772,2779,2786,2793,2807,2814,2821,2828,2842,2849,2856,2863,2877,2884,2891,2898,2912,2919,2926,2933,2947,2954,2961,2968,2982,2989,2996,3003,3017,3024,3031,3038,3052,3059,3066,3073,3087,3094,3101,3108,3122,3129,3136,3143,3157,3164,3171,3178,3192,3199\n"
     ]
    }
   ],
   "source": [
    "# Question 1: Write a program which will find all such numbers which are \n",
    "# divisible by 7 but are not a multiple of 5, between 2000 and 3200\n",
    "# (both included). The numbers obtained should be printed in a comma-separated\n",
    "#  sequence on a single line.\n",
    "\n",
    "# Hints: Consider use range(#begin, #end) method\n",
    "\n",
    "result = \"\"  \n",
    "\n",
    "for num in range(2000, 3201):\n",
    "    # Check if the number is divisible by 7 but not by 5\n",
    "    if num % 7 == 0 and num % 5 != 0:\n",
    "        result += str(num) + \",\"  # Concatenate the number and a comma\n",
    "\n",
    "# Remove the trailing comma if it exists\n",
    "if result.endswith(\",\"):\n",
    "    result = result[:-1]\n",
    "\n",
    "print(result)\n"
   ]
  },
  {
   "cell_type": "code",
   "execution_count": 2,
   "metadata": {},
   "outputs": [
    {
     "name": "stdout",
     "output_type": "stream",
     "text": [
      "119622220865480194561963161495657715064383733760000000000\n"
     ]
    }
   ],
   "source": [
    "# Question 2: Write a program which can compute the factorial of a given numbers.\n",
    "# The results should be printed in a comma-separated sequence on a single line.\n",
    "# Suppose the following input is supplied to the program: 8 \n",
    "# Then, the output should be: 40320\n",
    "\n",
    "# Hints: In case of input data being supplied to the question, it should be\n",
    "# assumed to be a console input.\n",
    "\n",
    "\n",
    "def factorial(n):\n",
    "    result = 1\n",
    "    i = 1\n",
    "    while i <= n:\n",
    "        result *= i\n",
    "        i += 1\n",
    "    return result\n",
    "\n",
    "number = int(input(\"Enter a number: \"))\n",
    "\n",
    "# Calculate the factorial\n",
    "fact = factorial(number)\n",
    "\n",
    "# Print the result\n",
    "print(fact)"
   ]
  },
  {
   "cell_type": "code",
   "execution_count": 3,
   "metadata": {},
   "outputs": [
    {
     "name": "stdout",
     "output_type": "stream",
     "text": [
      "{1: 1, 2: 4, 3: 9, 4: 16, 5: 25, 6: 36, 7: 49, 8: 64}\n"
     ]
    }
   ],
   "source": [
    "# Question 3: With a given integral number n, write a program to generate a \n",
    "# dictionary that contains (i, i*i) such that is an integral number between 1\n",
    "# and n (both included). and then the program should print the dictionary. \n",
    "# Suppose the following input is supplied to the program: 8 Then, the output\n",
    "#  should be: {1: 1, 2: 4, 3: 9, 4: 16, 5: 25, 6: 36, 7: 49, 8: 64}\n",
    "\n",
    "# Hints: In case of input data being supplied to the question, it should be \n",
    "# assumed to be a console input. Consider use dict()\n",
    "\n",
    "# Get input from the user\n",
    "n = int(input(\"Enter a number: \"))\n",
    "\n",
    "result_dict = {}\n",
    "\n",
    "i = 1\n",
    "\n",
    "# Use a while loop to populate the dictionary\n",
    "while i <= n:\n",
    "    # Add the key-value pair to the dictionary\n",
    "    result_dict[i] = i * i\n",
    "    # Increment the counter\n",
    "    i += 1\n",
    "\n",
    "# Print the resulting dictionary\n",
    "print(result_dict)"
   ]
  },
  {
   "cell_type": "code",
   "execution_count": 4,
   "metadata": {},
   "outputs": [
    {
     "name": "stdout",
     "output_type": "stream",
     "text": [
      "['1', '3', '6', '9']\n",
      "('1', '3', '6', '9')\n"
     ]
    }
   ],
   "source": [
    "# Question 4: Write a program which accepts a sequence of comma-separated\n",
    "# numbers from console and generate a list and a tuple which contains every\n",
    "#  number. Suppose the following input is supplied to the \n",
    "# program: 34,67,55,33,12,98 Then, the output should be:\n",
    "# ['34', '67', '55', '33', '12', '98'] ('34', '67', '55', '33', '12', '98')\n",
    "\n",
    "# Hints: In case of input data being supplied to the question, \n",
    "# it assumed to console input. tuple() method can convert list to tuple\n",
    "\n",
    "input_sequence = input(\"Enter a sequence of comma-separated numbers: \")\n",
    "\n",
    "# Split the input string into a list of strings\n",
    "number_list = input_sequence.split(',')\n",
    "\n",
    "# Convert the list of strings to a tuple\n",
    "number_tuple = tuple(number_list)\n",
    "\n",
    "print(number_list)\n",
    "print(number_tuple)"
   ]
  },
  {
   "cell_type": "code",
   "execution_count": 5,
   "metadata": {},
   "outputs": [
    {
     "name": "stdout",
     "output_type": "stream",
     "text": [
      "Test Case 1: Interactive input\n",
      "ESHBAN IS ESHBAN\n",
      "\n",
      "Test Case 2:\n",
      "HELLO WORLD\n",
      "\n",
      "Test Case 3:\n",
      "PYTHON PROGRAMMING\n"
     ]
    }
   ],
   "source": [
    "# Question 5: Define a class which has at least two methods: \n",
    "# getString: to get a string from console input \n",
    "# printString: to print the string in upper case. \n",
    "# Also please include simple test function to test the class methods.\n",
    "\n",
    "# Hints: Use init method to construct some parameters\n",
    "\n",
    "class StringProcessor:\n",
    "    def __init__(self, input_string=\"\"):\n",
    "        # Initialize with an optional input string (default is empty)\n",
    "        self.input_string = input_string\n",
    "\n",
    "    def getString(self):\n",
    "        self.input_string = input(\"Enter a string: \")\n",
    "\n",
    "    def printString(self):\n",
    "        print(self.input_string.upper())\n",
    "\n",
    "def test_StringProcessor():\n",
    "    # Test Case 1: Interactive input from the console\n",
    "    print(\"Test Case 1: Interactive input\")\n",
    "    processor1 = StringProcessor()\n",
    "    processor1.getString()\n",
    "    processor1.printString()\n",
    "\n",
    "    # Test Case 2: Predefined input string 'hello world'\n",
    "    print(\"\\nTest Case 2:\")\n",
    "    processor2 = StringProcessor(\"hello world\")\n",
    "    processor2.printString()\n",
    "\n",
    "    # Test Case 3: Predefined input string 'Python Programming'\n",
    "    print(\"\\nTest Case 3:\")\n",
    "    processor3 = StringProcessor(\"Python Programming\")\n",
    "    processor3.printString()\n",
    "\n",
    "if __name__ == \"__main__\":\n",
    "    test_StringProcessor()\n"
   ]
  }
 ],
 "metadata": {
  "kernelspec": {
   "display_name": "Python 3",
   "language": "python",
   "name": "python3"
  },
  "language_info": {
   "codemirror_mode": {
    "name": "ipython",
    "version": 3
   },
   "file_extension": ".py",
   "mimetype": "text/x-python",
   "name": "python",
   "nbconvert_exporter": "python",
   "pygments_lexer": "ipython3",
   "version": "3.13.1"
  }
 },
 "nbformat": 4,
 "nbformat_minor": 2
}
