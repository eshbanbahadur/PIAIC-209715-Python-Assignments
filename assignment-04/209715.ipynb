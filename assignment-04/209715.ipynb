{
 "cells": [
  {
   "cell_type": "code",
   "execution_count": 4,
   "metadata": {},
   "outputs": [
    {
     "name": "stdout",
     "output_type": "stream",
     "text": [
      "irfan\n",
      "waqas\n",
      "suleman\n",
      "amir\n",
      "zahid\n"
     ]
    }
   ],
   "source": [
    "#Exercise 3-1: Names\n",
    "#Store the names of a few of your friends in a list called names. \n",
    "# Print each person’s name by accessing each element in the list, one at a time.\n",
    "\n",
    "names = ['irfan','waqas','suleman','amir','zahid']\n",
    "print(names[0])\n",
    "print(names[1])\n",
    "print(names[2])\n",
    "print(names[3])\n",
    "print(names[4])"
   ]
  },
  {
   "cell_type": "code",
   "execution_count": 26,
   "metadata": {},
   "outputs": [
    {
     "name": "stdout",
     "output_type": "stream",
     "text": [
      "Good Morning! Irfan \n",
      "Good Morning! Waqas \n",
      "Good Morning! Suleman \n",
      "Good Morning! Amir \n",
      "Good Morning! Zahid \n"
     ]
    }
   ],
   "source": [
    "#Exercise 3-2: Greetings\n",
    "#Start with the list you used in Exercise 3-1, but instead of just printing each person’s name, print a message to them. \n",
    "# The text of each message should be the same, but each message should be personalized with the person’s name.\n",
    "\n",
    "print(f\"Good Morning! {names[0].title()} \")\n",
    "print(f\"Good Morning! {names[1].title()} \") \n",
    "print(f\"Good Morning! {names[2].title()} \")\n",
    "print(f\"Good Morning! {names[3].title()} \")\n",
    "print(f\"Good Morning! {names[4].title()} \")"
   ]
  },
  {
   "cell_type": "code",
   "execution_count": 31,
   "metadata": {},
   "outputs": [
    {
     "name": "stdout",
     "output_type": "stream",
     "text": [
      "I would like to own a Honda Car.\n",
      "In Streets I like to travel on Bike.\n",
      "In evening, I prefer to use my Cycle.\n",
      "Driving a Truck is one of my dream.\n"
     ]
    }
   ],
   "source": [
    "#Exercise 3-3: Your Own List\n",
    "\n",
    "#Think of your favorite mode of transportation, such as a motorcycle or a car, and make a list that stores several examples. \n",
    "# Use your list to print a series of statements about these items, such as “I would like to own a Honda motorcycle.”\n",
    "\n",
    "transportations = ['Car','Bike','Cycle','Truck']\n",
    "print(f\"I would like to own a Honda {transportations[0]}.\")\n",
    "print(f\"In Streets I like to travel on {transportations[1]}.\")\n",
    "print(f\"In evening, I prefer to use my {transportations[2]}.\")\n",
    "print(F\"Driving a {transportations[3]} is one of my dream.\")"
   ]
  },
  {
   "cell_type": "code",
   "execution_count": 8,
   "metadata": {},
   "outputs": [
    {
     "name": "stdout",
     "output_type": "stream",
     "text": [
      "Dear Qasim, I would like to invite you on my son's Birthday\n",
      "Dear Irfan, I would like to invite you on my son's Birthday\n",
      "Dear Bilal, I would like to invite you on my son's Birthday\n"
     ]
    }
   ],
   "source": [
    "#Exercise 3-4: Guest List\n",
    "# If you could invite anyone, living or deceased, to dinner, who would you invite?\n",
    "# Make a list that includes at least three people you’d like to invite to dinner. \n",
    "# Then use your list to print a message to each person, inviting them to dinner.\n",
    "\n",
    "guests = ['Qasim','Irfan','Bilal']\n",
    "print(f\"Dear {guests[0]}, I would like to invite you on my son's Birthday\")\n",
    "print(f\"Dear {guests[1]}, I would like to invite you on my son's Birthday\")\n",
    "print(f\"Dear {guests[2]}, I would like to invite you on my son's Birthday\")\n"
   ]
  },
  {
   "cell_type": "code",
   "execution_count": 10,
   "metadata": {},
   "outputs": [
    {
     "name": "stdout",
     "output_type": "stream",
     "text": [
      "Due to some urgent work Shoaib cannot attend the invitation\n",
      "-----New Invitation------\n",
      "Dear Qasim, Please join my son's Birthday party tomorrow at 7pm.\n",
      "Dear Shoaib, Please join my son's Birthday party tomorrow at 7pm.\n",
      "Dear Bilal, Please join my son's Birthday party tomorrow at 7pm.\n"
     ]
    }
   ],
   "source": [
    "#Exercise 3-5: Changing Guest List\n",
    "# You just heard that one of your guests can’t make the dinner, so you need to send out a new set of invitations.\n",
    "# Start with your program from Exercise 3-4. Add a print() call at the end of your program, stating the name of the guest who can’t make it.\n",
    "# Modify your list, replacing the name of the guest who can’t make it with the name of the new person you are inviting.\n",
    "# Print a second set of invitation messages, one for each person who is still in your list.\n",
    "\n",
    "print(f\"Due to some urgent work {guests[1]} cannot attend the invitation\")\n",
    "guests[1] = 'Shoaib'\n",
    "#print(guests)\n",
    "\n",
    "print(\"-----New Invitation------\")\n",
    "print(f\"Dear {guests[0]}, Please join my son's Birthday party tomorrow at 7pm.\")\n",
    "print(f\"Dear {guests[1]}, Please join my son's Birthday party tomorrow at 7pm.\")\n",
    "print(f\"Dear {guests[2]}, Please join my son's Birthday party tomorrow at 7pm.\")\n",
    "\n"
   ]
  },
  {
   "cell_type": "code",
   "execution_count": 103,
   "metadata": {},
   "outputs": [
    {
     "name": "stdout",
     "output_type": "stream",
     "text": [
      "I found a BIGGER Table, so I am extending my guest list\n",
      "-----This is the updated invitation with new Venue-----\n",
      "Dear Khawar, Please join my son's Birthday party tomorrow at 7:30pm at KFC Link Road Lahore.\n",
      "Dear Qasim, Please join my son's Birthday party tomorrow at 7:30pm at KFC Link Road Lahore.\n",
      "Dear Tariq, Please join my son's Birthday party tomorrow at 7:30pm at KFC Link Road Lahore.\n",
      "Dear Irfan, Please join my son's Birthday party tomorrow at 7:30pm at KFC Link Road Lahore.\n",
      "Dear Bilal, Please join my son's Birthday party tomorrow at 7:30pm at KFC Link Road Lahore.\n",
      "Dear Shamim, Please join my son's Birthday party tomorrow at 7:30pm at KFC Link Road Lahore.\n",
      "['Khawar', 'Qasim', 'Tariq', 'Irfan', 'Bilal', 'Shamim']\n"
     ]
    }
   ],
   "source": [
    "#Exercise 3-6: More Guests\n",
    "#You just found a bigger dinner table, so now more space is available. Think of three more guests to invite to dinner.\n",
    "#Start with your program from Exercise 3-4 or 3-5. Add a print() call to end of your program, informing people that you found a bigger table.\n",
    "#Use insert() to add one new guest to the beginning of your list.\n",
    "#Use insert() to add one new guest to the middle of your list.\n",
    "#Use append() to add one new guest to the end of your list.\n",
    "#Print a new set of invitation messages, one for each person in your list.\n",
    "\n",
    "guests = ['Qasim','Irfan','Bilal'] # I Reintialize the list again otherwise it keep adding new entries in the list \n",
    "\n",
    "print(f\"I found a BIGGER Table, so I am extending my guest list\")\n",
    "guests.insert(0,'Khawar') #Add Guest at beginning of the list\n",
    "middle_list_index = len(guests)//2\n",
    "guests.insert(middle_list_index,'Tariq') # Add new guest to the middle of list\n",
    "guests.append('Shamim') # Add new guest to the end of your list\n",
    "\n",
    "print(\"-----This is the updated invitation with new Venue-----\")\n",
    "\n",
    "print(f\"Dear {guests[0]}, Please join my son's Birthday party tomorrow at 7:30pm at KFC Link Road Lahore.\")\n",
    "print(f\"Dear {guests[1]}, Please join my son's Birthday party tomorrow at 7:30pm at KFC Link Road Lahore.\")\n",
    "print(f\"Dear {guests[2]}, Please join my son's Birthday party tomorrow at 7:30pm at KFC Link Road Lahore.\")\n",
    "print(f\"Dear {guests[3]}, Please join my son's Birthday party tomorrow at 7:30pm at KFC Link Road Lahore.\")\n",
    "print(f\"Dear {guests[4]}, Please join my son's Birthday party tomorrow at 7:30pm at KFC Link Road Lahore.\")\n",
    "print(f\"Dear {guests[5]}, Please join my son's Birthday party tomorrow at 7:30pm at KFC Link Road Lahore.\")\n",
    "\n",
    "print (guests)\n",
    "\n",
    "#Before empty the list in next step, lets save the Guest list to use it in Exercise 3-9\n",
    "new_guest_list = guests.copy()\n",
    "\n",
    "\n"
   ]
  },
  {
   "cell_type": "code",
   "execution_count": 104,
   "metadata": {},
   "outputs": [
    {
     "name": "stdout",
     "output_type": "stream",
     "text": [
      "Sorry! My new Dinner table is late so I can only invite 2 people\n",
      "['Khawar', 'Qasim', 'Tariq', 'Irfan', 'Bilal', 'Shamim']\n",
      "Sorry! Shamim I cannot invite you at Dinner.\n",
      "Sorry! Bilal I cannot invite you at Dinner.\n",
      "Sorry! Irfan I cannot invite you at the Dinner.\n",
      "Sorry! Tariq I cannot invite you at the Dinner.\n",
      "['Khawar', 'Qasim']\n",
      "Khawar! You are still invited.\n",
      "Qasim! You are still invited.\n",
      "['Khawar', 'Qasim']\n",
      "[]\n",
      "NEW----['Khawar', 'Qasim']\n"
     ]
    }
   ],
   "source": [
    "# Exercise 3-7: Shrinking Guest List\n",
    "# You just found out that your new dinner table won’t arrive in time for the dinner, and now you have space for only two guests.\n",
    "\n",
    "#Start with your program from Exercise 3-6. Add a new line that prints a message saying that you can invite only two people for dinner.\n",
    "# Use pop() to remove guests from your list one at a time until only two names remain in your list. \n",
    "# Each time you pop a name from your list, print a message to that person letting them know you’re sorry you can’t invite them to dinner.\n",
    "\n",
    "#Print a message to each of the two people still on your list, letting them know they’re still invited.\n",
    "#Use del to remove the last two names from your list, so you have an empty list. \n",
    "#Print your list to make sure you actually have an empty list at the end of your program.\n",
    "\n",
    "\n",
    "#Note: If you get error in this Exercise 3-7, start the program from Previous Step\n",
    "\n",
    "print(\"Sorry! My new Dinner table is late so I can only invite 2 people\")\n",
    "print(guests)\n",
    "\n",
    "print(f\"Sorry! {guests.pop()} I cannot invite you at Dinner.\") \n",
    "\n",
    "print(f\"Sorry! {guests.pop()} I cannot invite you at Dinner.\")\n",
    "\n",
    "print(f\"Sorry! {guests.pop()} I cannot invite you at the Dinner.\") \n",
    "\n",
    "print(f\"Sorry! {guests.pop()} I cannot invite you at the Dinner.\") \n",
    "print(guests)\n",
    "\n",
    "print(f\"{guests[0]}! You are still invited.\")\n",
    "print(f\"{guests[1]}! You are still invited.\")\n",
    "\n",
    "\n",
    "##### Remove Last Two Names from the List ####\n",
    "del guests[1]\n",
    "del guests[0]\n",
    "\n",
    "print(guests)\n"
   ]
  },
  {
   "cell_type": "code",
   "execution_count": 81,
   "metadata": {},
   "outputs": [
    {
     "name": "stdout",
     "output_type": "stream",
     "text": [
      "['Punjab University', 'Zoo', 'Emporium Mall', 'Lahore Fort', 'Anarkali Bazar']\n",
      "['Anarkali Bazar', 'Emporium Mall', 'Lahore Fort', 'Punjab University', 'Zoo']\n",
      "['Punjab University', 'Zoo', 'Emporium Mall', 'Lahore Fort', 'Anarkali Bazar']\n",
      "['Zoo', 'Punjab University', 'Lahore Fort', 'Emporium Mall', 'Anarkali Bazar']\n",
      "['Punjab University', 'Zoo', 'Emporium Mall', 'Lahore Fort', 'Anarkali Bazar']\n",
      "['Anarkali Bazar', 'Lahore Fort', 'Emporium Mall', 'Zoo', 'Punjab University']\n",
      "['Punjab University', 'Zoo', 'Emporium Mall', 'Lahore Fort', 'Anarkali Bazar']\n",
      "['Anarkali Bazar', 'Emporium Mall', 'Lahore Fort', 'Punjab University', 'Zoo']\n",
      "['Zoo', 'Punjab University', 'Lahore Fort', 'Emporium Mall', 'Anarkali Bazar']\n"
     ]
    }
   ],
   "source": [
    "#Exercise 3-8: Seeing the World\n",
    "#Think of at least five places in the world you’d like to visit.\n",
    "\n",
    "#Store the locations in a list. Make sure the list is not in alphabetical order.\n",
    "# Print your list in its original order. Don’t worry about printing the list neatly; just print it as a raw Python list.\n",
    "\n",
    "#Use sorted() to print your list in alphabetical order without modifying the actual list.\n",
    "#Show that your list is still in its original order by printing it.\n",
    "\n",
    "#Use sorted() to print your list in reverse-alphabetical order without changing the order of the original list.\n",
    "#Show that your list is still in its original order by printing it again.\n",
    "\n",
    "#Use reverse() to change the order of your list. Print the list to show that its order has changed.\n",
    "#Use reverse() to change the order of your list again. Print the list to show it’s back to its original order.\n",
    "\n",
    "#Use sort() to change your list so it’s stored in alphabetical order. Print the list to show that its order has been changed.\n",
    "#Use sort() to change your list so it’s stored in reverse-alphabetical order. Print the list to show that its order has changed.\n",
    "\n",
    "places_to_visit = ['Punjab University','Zoo','Emporium Mall','Lahore Fort','Anarkali Bazar']\n",
    "print(places_to_visit)\n",
    "\n",
    "#Sorted List\n",
    "print(sorted(places_to_visit))\n",
    "#Original List\n",
    "print(places_to_visit)\n",
    "\n",
    "#Reverse Alphabetic Order\n",
    "print(sorted(places_to_visit,reverse=True,))\n",
    "#Original List\n",
    "print(places_to_visit)\n",
    "\n",
    "#Using REVERSE() - Actually this method flips the current order of the elements\n",
    "places_to_visit.reverse()\n",
    "print(places_to_visit)\n",
    "\n",
    "#Using REVERSE() again\n",
    "places_to_visit.reverse()\n",
    "print(places_to_visit)\n",
    "\n",
    "#Use SORT to change the list so its sorted in Alplhabetic Order - SORT() cannot return any value so we cannot use it in PRINT\n",
    "places_to_visit.sort()\n",
    "print(places_to_visit)\n",
    "\n",
    "#Use SORT to change the list so its sorted in reverse-alphabetical Order \n",
    "places_to_visit.sort(reverse=True)\n",
    "print(places_to_visit)\n"
   ]
  },
  {
   "cell_type": "code",
   "execution_count": 107,
   "metadata": {},
   "outputs": [
    {
     "name": "stdout",
     "output_type": "stream",
     "text": [
      "I have invited 2 guests to my Son's Birthday Party\n"
     ]
    }
   ],
   "source": [
    "# Exercise 3-9: Dinner Guests \n",
    "# Working with one of the programs from Exercises 3-4 through 3-7, \n",
    "# use len() to print a message indicating the number of people you’re inviting to dinner.\n",
    "\n",
    "print(f\"I have invited {len(new_guest_list)} guests to my Son's Birthday Party\")"
   ]
  },
  {
   "cell_type": "code",
   "execution_count": 143,
   "metadata": {},
   "outputs": [
    {
     "name": "stdout",
     "output_type": "stream",
     "text": [
      "My List of items:\n",
      "['k2', 'amazon river', 'pakistan', 'lahore', 'urdu']\n",
      "\n",
      "Accessing the first and last elements:\n",
      "The first item =  K2\n",
      "The last item = urdu\n",
      "\n",
      "Total number of items in the list: 5\n",
      "\n",
      "List after modification: \n",
      "['k2', 'amazon river', 'Nile River', 'lahore', 'urdu']\n",
      "\n",
      "List after adding a new item: \n",
      "['k2', 'amazon river', 'Nile River', 'lahore', 'urdu', 'Mount Everest']\n",
      "\n",
      "List after inserting an item at index 2:\n",
      "['k2', 'amazon river', 'France', 'Nile River', 'lahore', 'urdu', 'Mount Everest']\n",
      "\n",
      "List after removing 'Lahore':\n",
      "['k2', 'amazon river', 'France', 'Nile River', 'urdu', 'Mount Everest']\n",
      "\n",
      "List after popping the last item:\n",
      "['k2', 'amazon river', 'France', 'Nile River', 'urdu']\n",
      "Popped item: Mount Everest\n",
      "\n",
      "Remove an Item URDU by Value ['k2', 'amazon river', 'France', 'Nile River']\n",
      "\n",
      "Remove Item at index[0] by using DEL Statement['amazon river', 'France', 'Nile River']\n",
      "\n",
      "List after popping the item at index 2:\n",
      "['amazon river', 'Nile River']\n",
      "\n",
      "Popped item from index 2: France\n",
      "\n",
      "List sorted in alphabetical order:\n",
      "['Nile River', 'amazon river']\n",
      "\n",
      "List sorted in reverse alphabetical order:\n",
      "['amazon river', 'Nile River']\n",
      "\n",
      "Temporarily Sorted List\n",
      "['Nile River', 'amazon river']\n",
      "\n",
      "Temporarily sorted LIST (reverse alphabetical order):\n",
      "['amazon river', 'Nile River']\n",
      "\n",
      "List after reversing the order:\n",
      "['Nile River', 'amazon river']\n",
      "\n",
      "Last item in the list (using -1 index): amazon river\n"
     ]
    }
   ],
   "source": [
    "#Exercise 3-10: Every Function\n",
    "\n",
    "#Think of things you could store in a list. For example, you could make a list of\n",
    "#  mountains, rivers, countries, cities, languages, or anything else you’d like.\n",
    "#  Write a program that creates a list containing these items and then uses each function introduced in this chapter at least once.\n",
    "\n",
    "# Create a list with a mix of items\n",
    "items = [\"k2\", \"amazon river\", \"pakistan\", \"lahore\", \"urdu\"]\n",
    "\n",
    "#Print the original list\n",
    "print(\"My List of items:\")\n",
    "print(items)\n",
    "\n",
    "#Access the first and last elements of LIST\n",
    "print(\"\\nAccessing the first and last elements:\")\n",
    "print(f\"The first item =  {items[0].title()}\")\n",
    "print(f\"The last item = {items[-1]}\") \n",
    "\n",
    "#Find the total number of items in the LIST\n",
    "print(f\"\\nTotal number of items in the list: {len(items)}\")\n",
    "\n",
    "#Modify the 3rd element\n",
    "items[2] = \"Nile River\"\n",
    "print(\"\\nList after modification: \")\n",
    "print(items)\n",
    "\n",
    "#Add a new item to the list\n",
    "items.append(\"Mount Everest\")\n",
    "print(\"\\nList after adding a new item: \")\n",
    "print(items)\n",
    "\n",
    "#Insert an item at the third position\n",
    "items.insert(2, \"France\")\n",
    "print(\"\\nList after inserting an item at index 2:\")\n",
    "print(items)\n",
    "\n",
    "#Remove an item by value\n",
    "items.remove(\"lahore\")\n",
    "print(\"\\nList after removing 'Lahore':\")\n",
    "print(items)\n",
    "\n",
    "#Remove the last item using pop()\n",
    "last_item = items.pop()\n",
    "print(f\"\\nList after popping the last item:\")\n",
    "print(items)\n",
    "print(f\"Popped item: {last_item}\")\n",
    "\n",
    "\n",
    "#Remove the ITEM with Remove Statement ---- It uses Value instead of Index Number\n",
    "items.remove('urdu')\n",
    "print(f\"\\nRemove an Item URDU by Value {items}\")\n",
    "\n",
    "#Remove the Item with  DEL statement ---- IT Uses INDEX Number instead of value\n",
    "del items[0]\n",
    "print(f\"\\nRemove Item at index[0] by using DEL Statement{items}\")\n",
    "\n",
    "#Remove a specific item using pop() with an index\n",
    "popped_item_index = items.pop(1)  # Removes the item at index 2\n",
    "print(\"\\nList after popping the item at index 2:\")\n",
    "print(items)\n",
    "print(f\"\\nPopped item from index 2: {popped_item_index}\")\n",
    "\n",
    "#Sort the list alphabetically\n",
    "items.sort()\n",
    "print(\"\\nList sorted in alphabetical order:\")\n",
    "print(items)\n",
    "\n",
    "\n",
    "#Use SORT to change the list so its sorted in reverse-alphabetical Order \n",
    "items.sort(reverse=True)\n",
    "print(\"\\nList sorted in reverse alphabetical order:\")\n",
    "print(items)\n",
    "\n",
    "#Sorted - To Sort list temporarily \n",
    "print(\"\\nTemporarily Sorted List\")\n",
    "print(sorted(items))\n",
    "\n",
    "# sorted() with reverse=True for reverse alphabetical order (temporary)\n",
    "print(\"\\nTemporarily sorted LIST (reverse alphabetical order):\")\n",
    "print(sorted(items, reverse=True))  # This does not change the original list\n",
    "\n",
    "#Reverse the list order\n",
    "items.reverse()\n",
    "print(\"\\nList after reversing the order:\")\n",
    "print(items)\n",
    "\n",
    "#Print the last element using `len()` and `-1` index\n",
    "print(f\"\\nLast item in the list (using -1 index): {items[-1]}\")\n"
   ]
  },
  {
   "cell_type": "code",
   "execution_count": 147,
   "metadata": {},
   "outputs": [
    {
     "name": "stdout",
     "output_type": "stream",
     "text": [
      "dish antena\n",
      "cd player\n"
     ]
    }
   ],
   "source": [
    "#Exercise 3-11: Intentional Error\n",
    "\n",
    "#If you haven’t received an index error in one of your programs yet, try to make one happen. \n",
    "# Change an index in one of your programs to produce an index error. Make sure you correct the error before closing the program.\n",
    "\n",
    "my_new_list = ['tv','radio','cd player','dish antena']\n",
    "#print(my_new_list[5]) // This will produce index error because there are only 3 indexes (0,1,2,3) in the list\n",
    "\n",
    "print(my_new_list[-1])  # Here -1 index is used to access the last index of array\n",
    "print(my_new_list[-2])  # Here -2 index is used to access the second last index of array"
   ]
  }
 ],
 "metadata": {
  "kernelspec": {
   "display_name": "Python 3",
   "language": "python",
   "name": "python3"
  },
  "language_info": {
   "codemirror_mode": {
    "name": "ipython",
    "version": 3
   },
   "file_extension": ".py",
   "mimetype": "text/x-python",
   "name": "python",
   "nbconvert_exporter": "python",
   "pygments_lexer": "ipython3",
   "version": "3.13.1"
  }
 },
 "nbformat": 4,
 "nbformat_minor": 2
}
